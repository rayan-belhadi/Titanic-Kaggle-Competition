{
 "cells": [
  {
   "cell_type": "markdown",
   "id": "cd2b752f",
   "metadata": {
    "papermill": {
     "duration": 0.007473,
     "end_time": "2025-03-02T21:13:40.907695",
     "exception": false,
     "start_time": "2025-03-02T21:13:40.900222",
     "status": "completed"
    },
    "tags": []
   },
   "source": [
    "# 🚢 **Projet Kaggle : Titanic**\n",
    "\n",
    "Bienvenue dans ce notebook dédié à la compétition Kaggle *Titanic: Machine Learning from Disaster*.\n",
    "\n",
    "## **Contexte du projet**\n",
    "\n",
    "L'objectif est de prédire la survie des passagers du Titanic à partir de leurs caractéristiques (âge, sexe, classe, etc.). Cette compétition est très populaire et sert de porte d’entrée pour se familiariser avec toutes les étapes d’un projet de **Machine Learning**. C'est donc avec passion que je me lance dans mon premier modèle de Machine Learning en compétition. Voici ci-après, les détails de ma reflexion et de ma méthodologie pour mettre au point un modèle capable de prédire la survie des passagers du Titanic.\n"
   ]
  },
  {
   "cell_type": "markdown",
   "id": "256a2144",
   "metadata": {
    "papermill": {
     "duration": 0.006365,
     "end_time": "2025-03-02T21:13:40.920950",
     "exception": false,
     "start_time": "2025-03-02T21:13:40.914585",
     "status": "completed"
    },
    "tags": []
   },
   "source": [
    "# 📜 **Plan du Notebook**\n",
    "\n",
    "1. [Import des librairies et des données](#section1)  \n",
    "2. [Analyse exploratoire (EDA)](#section2)  \n",
    "3. [Prétraitement des données](#section3)  \n",
    "4. [Feature Engineering](#section4)  \n",
    "5. [Modélisation](#section5)  \n",
    "6. [Évaluation et soumission](#section6)  \n",
    "\n",
    "Nous détaillerons dans chaque section nos choix et nos observations pour une meilleure compréhension.\n"
   ]
  },
  {
   "cell_type": "markdown",
   "id": "4844731b",
   "metadata": {
    "papermill": {
     "duration": 0.006293,
     "end_time": "2025-03-02T21:13:40.933800",
     "exception": false,
     "start_time": "2025-03-02T21:13:40.927507",
     "status": "completed"
    },
    "tags": []
   },
   "source": [
    "<a id=\"section1\"></a>\n",
    "# 💾 **1. Import des librairies et des données**\n",
    "\n",
    "Dans cette section, nous allons :\n",
    "\n",
    "- Importer les bibliothèques nécessaires (**pandas**, **numpy**, **sklearn**, etc.).  \n",
    "- Charger nos fichiers CSV (train et test).  \n",
    "- Afficher un aperçu rapide des données (head, info, describe...).\n"
   ]
  },
  {
   "cell_type": "code",
   "execution_count": 1,
   "id": "5cce8ada",
   "metadata": {
    "execution": {
     "iopub.execute_input": "2025-03-02T21:13:40.948846Z",
     "iopub.status.busy": "2025-03-02T21:13:40.948434Z",
     "iopub.status.idle": "2025-03-02T21:13:43.920920Z",
     "shell.execute_reply": "2025-03-02T21:13:43.919772Z"
    },
    "papermill": {
     "duration": 2.982156,
     "end_time": "2025-03-02T21:13:43.923010",
     "exception": false,
     "start_time": "2025-03-02T21:13:40.940854",
     "status": "completed"
    },
    "tags": []
   },
   "outputs": [],
   "source": [
    "# ==========================\n",
    "# 1. Import des librairies\n",
    "# ==========================\n",
    "import pandas as pd\n",
    "import numpy as np\n",
    "import matplotlib.pyplot as plt\n",
    "\n",
    "# Pour la modélisation\n",
    "from sklearn.model_selection import train_test_split, cross_val_score\n",
    "from sklearn.preprocessing import LabelEncoder\n",
    "from sklearn.impute import SimpleImputer\n",
    "from sklearn.ensemble import RandomForestClassifier\n",
    "from sklearn.metrics import accuracy_score"
   ]
  },
  {
   "cell_type": "code",
   "execution_count": 2,
   "id": "11280e04",
   "metadata": {
    "execution": {
     "iopub.execute_input": "2025-03-02T21:13:43.938244Z",
     "iopub.status.busy": "2025-03-02T21:13:43.937669Z",
     "iopub.status.idle": "2025-03-02T21:13:43.966791Z",
     "shell.execute_reply": "2025-03-02T21:13:43.965437Z"
    },
    "papermill": {
     "duration": 0.038434,
     "end_time": "2025-03-02T21:13:43.968499",
     "exception": false,
     "start_time": "2025-03-02T21:13:43.930065",
     "status": "completed"
    },
    "tags": []
   },
   "outputs": [
    {
     "name": "stdout",
     "output_type": "stream",
     "text": [
      "Train data shape : (891, 12)\n",
      "Test data shape  : (418, 11)\n"
     ]
    }
   ],
   "source": [
    "# ==========================\n",
    "# 2. Chargement des données\n",
    "# ==========================\n",
    "train_data = pd.read_csv(\"/kaggle/input/titanic/train.csv\")\n",
    "test_data = pd.read_csv(\"/kaggle/input/titanic/test.csv\")\n",
    "\n",
    "print(\"Train data shape :\", train_data.shape)\n",
    "print(\"Test data shape  :\", test_data.shape)"
   ]
  },
  {
   "cell_type": "code",
   "execution_count": 3,
   "id": "1640fa73",
   "metadata": {
    "execution": {
     "iopub.execute_input": "2025-03-02T21:13:43.983758Z",
     "iopub.status.busy": "2025-03-02T21:13:43.983332Z",
     "iopub.status.idle": "2025-03-02T21:13:44.014744Z",
     "shell.execute_reply": "2025-03-02T21:13:44.013443Z"
    },
    "papermill": {
     "duration": 0.040987,
     "end_time": "2025-03-02T21:13:44.016536",
     "exception": false,
     "start_time": "2025-03-02T21:13:43.975549",
     "status": "completed"
    },
    "tags": []
   },
   "outputs": [
    {
     "data": {
      "text/html": [
       "<div>\n",
       "<style scoped>\n",
       "    .dataframe tbody tr th:only-of-type {\n",
       "        vertical-align: middle;\n",
       "    }\n",
       "\n",
       "    .dataframe tbody tr th {\n",
       "        vertical-align: top;\n",
       "    }\n",
       "\n",
       "    .dataframe thead th {\n",
       "        text-align: right;\n",
       "    }\n",
       "</style>\n",
       "<table border=\"1\" class=\"dataframe\">\n",
       "  <thead>\n",
       "    <tr style=\"text-align: right;\">\n",
       "      <th></th>\n",
       "      <th>PassengerId</th>\n",
       "      <th>Survived</th>\n",
       "      <th>Pclass</th>\n",
       "      <th>Name</th>\n",
       "      <th>Sex</th>\n",
       "      <th>Age</th>\n",
       "      <th>SibSp</th>\n",
       "      <th>Parch</th>\n",
       "      <th>Ticket</th>\n",
       "      <th>Fare</th>\n",
       "      <th>Cabin</th>\n",
       "      <th>Embarked</th>\n",
       "    </tr>\n",
       "  </thead>\n",
       "  <tbody>\n",
       "    <tr>\n",
       "      <th>0</th>\n",
       "      <td>1</td>\n",
       "      <td>0</td>\n",
       "      <td>3</td>\n",
       "      <td>Braund, Mr. Owen Harris</td>\n",
       "      <td>male</td>\n",
       "      <td>22.0</td>\n",
       "      <td>1</td>\n",
       "      <td>0</td>\n",
       "      <td>A/5 21171</td>\n",
       "      <td>7.2500</td>\n",
       "      <td>NaN</td>\n",
       "      <td>S</td>\n",
       "    </tr>\n",
       "    <tr>\n",
       "      <th>1</th>\n",
       "      <td>2</td>\n",
       "      <td>1</td>\n",
       "      <td>1</td>\n",
       "      <td>Cumings, Mrs. John Bradley (Florence Briggs Th...</td>\n",
       "      <td>female</td>\n",
       "      <td>38.0</td>\n",
       "      <td>1</td>\n",
       "      <td>0</td>\n",
       "      <td>PC 17599</td>\n",
       "      <td>71.2833</td>\n",
       "      <td>C85</td>\n",
       "      <td>C</td>\n",
       "    </tr>\n",
       "    <tr>\n",
       "      <th>2</th>\n",
       "      <td>3</td>\n",
       "      <td>1</td>\n",
       "      <td>3</td>\n",
       "      <td>Heikkinen, Miss. Laina</td>\n",
       "      <td>female</td>\n",
       "      <td>26.0</td>\n",
       "      <td>0</td>\n",
       "      <td>0</td>\n",
       "      <td>STON/O2. 3101282</td>\n",
       "      <td>7.9250</td>\n",
       "      <td>NaN</td>\n",
       "      <td>S</td>\n",
       "    </tr>\n",
       "    <tr>\n",
       "      <th>3</th>\n",
       "      <td>4</td>\n",
       "      <td>1</td>\n",
       "      <td>1</td>\n",
       "      <td>Futrelle, Mrs. Jacques Heath (Lily May Peel)</td>\n",
       "      <td>female</td>\n",
       "      <td>35.0</td>\n",
       "      <td>1</td>\n",
       "      <td>0</td>\n",
       "      <td>113803</td>\n",
       "      <td>53.1000</td>\n",
       "      <td>C123</td>\n",
       "      <td>S</td>\n",
       "    </tr>\n",
       "    <tr>\n",
       "      <th>4</th>\n",
       "      <td>5</td>\n",
       "      <td>0</td>\n",
       "      <td>3</td>\n",
       "      <td>Allen, Mr. William Henry</td>\n",
       "      <td>male</td>\n",
       "      <td>35.0</td>\n",
       "      <td>0</td>\n",
       "      <td>0</td>\n",
       "      <td>373450</td>\n",
       "      <td>8.0500</td>\n",
       "      <td>NaN</td>\n",
       "      <td>S</td>\n",
       "    </tr>\n",
       "  </tbody>\n",
       "</table>\n",
       "</div>"
      ],
      "text/plain": [
       "   PassengerId  Survived  Pclass  \\\n",
       "0            1         0       3   \n",
       "1            2         1       1   \n",
       "2            3         1       3   \n",
       "3            4         1       1   \n",
       "4            5         0       3   \n",
       "\n",
       "                                                Name     Sex   Age  SibSp  \\\n",
       "0                            Braund, Mr. Owen Harris    male  22.0      1   \n",
       "1  Cumings, Mrs. John Bradley (Florence Briggs Th...  female  38.0      1   \n",
       "2                             Heikkinen, Miss. Laina  female  26.0      0   \n",
       "3       Futrelle, Mrs. Jacques Heath (Lily May Peel)  female  35.0      1   \n",
       "4                           Allen, Mr. William Henry    male  35.0      0   \n",
       "\n",
       "   Parch            Ticket     Fare Cabin Embarked  \n",
       "0      0         A/5 21171   7.2500   NaN        S  \n",
       "1      0          PC 17599  71.2833   C85        C  \n",
       "2      0  STON/O2. 3101282   7.9250   NaN        S  \n",
       "3      0            113803  53.1000  C123        S  \n",
       "4      0            373450   8.0500   NaN        S  "
      ]
     },
     "metadata": {},
     "output_type": "display_data"
    }
   ],
   "source": [
    "# Affichage d'un aperçu\n",
    "display(train_data.head())"
   ]
  },
  {
   "cell_type": "markdown",
   "id": "d57f8c2a",
   "metadata": {
    "papermill": {
     "duration": 0.006657,
     "end_time": "2025-03-02T21:13:44.030555",
     "exception": false,
     "start_time": "2025-03-02T21:13:44.023898",
     "status": "completed"
    },
    "tags": []
   },
   "source": [
    "# 📋 **Description des colonnes principales**\n",
    "\n",
    "- **Survived** : 0 = Non survécu, 1 = Survécu (variable cible).  \n",
    "- **Pclass** : Classe du billet (1 = Première, 2 = Deuxième, 3 = Troisième).  \n",
    "- **Name, Sex, Age** : Informations personnelles sur le passager.  \n",
    "- **SibSp** : Nombre de frères/sœurs ou époux(-se) à bord.  \n",
    "- **Parch** : Nombre de parents ou enfants à bord.  \n",
    "- **Ticket** : Numéro du billet.  \n",
    "- **Fare** : Tarif du billet.  \n",
    "- **Cabin** : Numéro de cabine.  \n",
    "- **Embarked** : Port d'embarquement (C = Cherbourg, Q = Queenstown, S = Southampton).\n"
   ]
  },
  {
   "cell_type": "markdown",
   "id": "73e2127d",
   "metadata": {
    "papermill": {
     "duration": 0.006619,
     "end_time": "2025-03-02T21:13:44.044135",
     "exception": false,
     "start_time": "2025-03-02T21:13:44.037516",
     "status": "completed"
    },
    "tags": []
   },
   "source": [
    "<a id=\"section2\"></a>\n",
    "# 🔎 **2. Analyse exploratoire (EDA)**\n",
    "\n",
    "1. Observation des premières lignes et des informations globales (types, valeurs manquantes).  \n",
    "2. Statistiques descriptives pour les variables numériques et catégorielles.  \n",
    "3. Visualisation de la variable cible (*Survived*) pour la répartition 0/1.  \n",
    "4. Exploration d’autres variables (Sex, Pclass, Age, etc.) afin de découvrir des tendances ou corrélations.\n"
   ]
  },
  {
   "cell_type": "code",
   "execution_count": 4,
   "id": "97112be4",
   "metadata": {
    "execution": {
     "iopub.execute_input": "2025-03-02T21:13:44.059508Z",
     "iopub.status.busy": "2025-03-02T21:13:44.059076Z",
     "iopub.status.idle": "2025-03-02T21:13:44.099336Z",
     "shell.execute_reply": "2025-03-02T21:13:44.097859Z"
    },
    "papermill": {
     "duration": 0.050136,
     "end_time": "2025-03-02T21:13:44.101209",
     "exception": false,
     "start_time": "2025-03-02T21:13:44.051073",
     "status": "completed"
    },
    "tags": []
   },
   "outputs": [
    {
     "data": {
      "text/html": [
       "<div>\n",
       "<style scoped>\n",
       "    .dataframe tbody tr th:only-of-type {\n",
       "        vertical-align: middle;\n",
       "    }\n",
       "\n",
       "    .dataframe tbody tr th {\n",
       "        vertical-align: top;\n",
       "    }\n",
       "\n",
       "    .dataframe thead th {\n",
       "        text-align: right;\n",
       "    }\n",
       "</style>\n",
       "<table border=\"1\" class=\"dataframe\">\n",
       "  <thead>\n",
       "    <tr style=\"text-align: right;\">\n",
       "      <th></th>\n",
       "      <th>PassengerId</th>\n",
       "      <th>Survived</th>\n",
       "      <th>Pclass</th>\n",
       "      <th>Name</th>\n",
       "      <th>Sex</th>\n",
       "      <th>Age</th>\n",
       "      <th>SibSp</th>\n",
       "      <th>Parch</th>\n",
       "      <th>Ticket</th>\n",
       "      <th>Fare</th>\n",
       "      <th>Cabin</th>\n",
       "      <th>Embarked</th>\n",
       "    </tr>\n",
       "  </thead>\n",
       "  <tbody>\n",
       "    <tr>\n",
       "      <th>0</th>\n",
       "      <td>1</td>\n",
       "      <td>0</td>\n",
       "      <td>3</td>\n",
       "      <td>Braund, Mr. Owen Harris</td>\n",
       "      <td>male</td>\n",
       "      <td>22.0</td>\n",
       "      <td>1</td>\n",
       "      <td>0</td>\n",
       "      <td>A/5 21171</td>\n",
       "      <td>7.2500</td>\n",
       "      <td>NaN</td>\n",
       "      <td>S</td>\n",
       "    </tr>\n",
       "    <tr>\n",
       "      <th>1</th>\n",
       "      <td>2</td>\n",
       "      <td>1</td>\n",
       "      <td>1</td>\n",
       "      <td>Cumings, Mrs. John Bradley (Florence Briggs Th...</td>\n",
       "      <td>female</td>\n",
       "      <td>38.0</td>\n",
       "      <td>1</td>\n",
       "      <td>0</td>\n",
       "      <td>PC 17599</td>\n",
       "      <td>71.2833</td>\n",
       "      <td>C85</td>\n",
       "      <td>C</td>\n",
       "    </tr>\n",
       "    <tr>\n",
       "      <th>2</th>\n",
       "      <td>3</td>\n",
       "      <td>1</td>\n",
       "      <td>3</td>\n",
       "      <td>Heikkinen, Miss. Laina</td>\n",
       "      <td>female</td>\n",
       "      <td>26.0</td>\n",
       "      <td>0</td>\n",
       "      <td>0</td>\n",
       "      <td>STON/O2. 3101282</td>\n",
       "      <td>7.9250</td>\n",
       "      <td>NaN</td>\n",
       "      <td>S</td>\n",
       "    </tr>\n",
       "    <tr>\n",
       "      <th>3</th>\n",
       "      <td>4</td>\n",
       "      <td>1</td>\n",
       "      <td>1</td>\n",
       "      <td>Futrelle, Mrs. Jacques Heath (Lily May Peel)</td>\n",
       "      <td>female</td>\n",
       "      <td>35.0</td>\n",
       "      <td>1</td>\n",
       "      <td>0</td>\n",
       "      <td>113803</td>\n",
       "      <td>53.1000</td>\n",
       "      <td>C123</td>\n",
       "      <td>S</td>\n",
       "    </tr>\n",
       "    <tr>\n",
       "      <th>4</th>\n",
       "      <td>5</td>\n",
       "      <td>0</td>\n",
       "      <td>3</td>\n",
       "      <td>Allen, Mr. William Henry</td>\n",
       "      <td>male</td>\n",
       "      <td>35.0</td>\n",
       "      <td>0</td>\n",
       "      <td>0</td>\n",
       "      <td>373450</td>\n",
       "      <td>8.0500</td>\n",
       "      <td>NaN</td>\n",
       "      <td>S</td>\n",
       "    </tr>\n",
       "  </tbody>\n",
       "</table>\n",
       "</div>"
      ],
      "text/plain": [
       "   PassengerId  Survived  Pclass  \\\n",
       "0            1         0       3   \n",
       "1            2         1       1   \n",
       "2            3         1       3   \n",
       "3            4         1       1   \n",
       "4            5         0       3   \n",
       "\n",
       "                                                Name     Sex   Age  SibSp  \\\n",
       "0                            Braund, Mr. Owen Harris    male  22.0      1   \n",
       "1  Cumings, Mrs. John Bradley (Florence Briggs Th...  female  38.0      1   \n",
       "2                             Heikkinen, Miss. Laina  female  26.0      0   \n",
       "3       Futrelle, Mrs. Jacques Heath (Lily May Peel)  female  35.0      1   \n",
       "4                           Allen, Mr. William Henry    male  35.0      0   \n",
       "\n",
       "   Parch            Ticket     Fare Cabin Embarked  \n",
       "0      0         A/5 21171   7.2500   NaN        S  \n",
       "1      0          PC 17599  71.2833   C85        C  \n",
       "2      0  STON/O2. 3101282   7.9250   NaN        S  \n",
       "3      0            113803  53.1000  C123        S  \n",
       "4      0            373450   8.0500   NaN        S  "
      ]
     },
     "metadata": {},
     "output_type": "display_data"
    },
    {
     "name": "stdout",
     "output_type": "stream",
     "text": [
      "<class 'pandas.core.frame.DataFrame'>\n",
      "RangeIndex: 891 entries, 0 to 890\n",
      "Data columns (total 12 columns):\n",
      " #   Column       Non-Null Count  Dtype  \n",
      "---  ------       --------------  -----  \n",
      " 0   PassengerId  891 non-null    int64  \n",
      " 1   Survived     891 non-null    int64  \n",
      " 2   Pclass       891 non-null    int64  \n",
      " 3   Name         891 non-null    object \n",
      " 4   Sex          891 non-null    object \n",
      " 5   Age          714 non-null    float64\n",
      " 6   SibSp        891 non-null    int64  \n",
      " 7   Parch        891 non-null    int64  \n",
      " 8   Ticket       891 non-null    object \n",
      " 9   Fare         891 non-null    float64\n",
      " 10  Cabin        204 non-null    object \n",
      " 11  Embarked     889 non-null    object \n",
      "dtypes: float64(2), int64(5), object(5)\n",
      "memory usage: 83.7+ KB\n"
     ]
    }
   ],
   "source": [
    "# ================================\n",
    "# 1. Aperçu global des données\n",
    "# ================================\n",
    "display(train_data.head())\n",
    "train_data.info()  # Donne le type de chaque colonne et le nombre de valeurs non nulles"
   ]
  },
  {
   "cell_type": "code",
   "execution_count": 5,
   "id": "371d07fe",
   "metadata": {
    "execution": {
     "iopub.execute_input": "2025-03-02T21:13:44.117915Z",
     "iopub.status.busy": "2025-03-02T21:13:44.117476Z",
     "iopub.status.idle": "2025-03-02T21:13:44.163527Z",
     "shell.execute_reply": "2025-03-02T21:13:44.162316Z"
    },
    "papermill": {
     "duration": 0.056374,
     "end_time": "2025-03-02T21:13:44.165347",
     "exception": false,
     "start_time": "2025-03-02T21:13:44.108973",
     "status": "completed"
    },
    "tags": []
   },
   "outputs": [
    {
     "name": "stderr",
     "output_type": "stream",
     "text": [
      "/usr/local/lib/python3.10/dist-packages/pandas/io/formats/format.py:1458: RuntimeWarning: invalid value encountered in greater\n",
      "  has_large_values = (abs_vals > 1e6).any()\n",
      "/usr/local/lib/python3.10/dist-packages/pandas/io/formats/format.py:1459: RuntimeWarning: invalid value encountered in less\n",
      "  has_small_values = ((abs_vals < 10 ** (-self.digits)) & (abs_vals > 0)).any()\n",
      "/usr/local/lib/python3.10/dist-packages/pandas/io/formats/format.py:1459: RuntimeWarning: invalid value encountered in greater\n",
      "  has_small_values = ((abs_vals < 10 ** (-self.digits)) & (abs_vals > 0)).any()\n"
     ]
    },
    {
     "data": {
      "text/html": [
       "<div>\n",
       "<style scoped>\n",
       "    .dataframe tbody tr th:only-of-type {\n",
       "        vertical-align: middle;\n",
       "    }\n",
       "\n",
       "    .dataframe tbody tr th {\n",
       "        vertical-align: top;\n",
       "    }\n",
       "\n",
       "    .dataframe thead th {\n",
       "        text-align: right;\n",
       "    }\n",
       "</style>\n",
       "<table border=\"1\" class=\"dataframe\">\n",
       "  <thead>\n",
       "    <tr style=\"text-align: right;\">\n",
       "      <th></th>\n",
       "      <th>PassengerId</th>\n",
       "      <th>Survived</th>\n",
       "      <th>Pclass</th>\n",
       "      <th>Name</th>\n",
       "      <th>Sex</th>\n",
       "      <th>Age</th>\n",
       "      <th>SibSp</th>\n",
       "      <th>Parch</th>\n",
       "      <th>Ticket</th>\n",
       "      <th>Fare</th>\n",
       "      <th>Cabin</th>\n",
       "      <th>Embarked</th>\n",
       "    </tr>\n",
       "  </thead>\n",
       "  <tbody>\n",
       "    <tr>\n",
       "      <th>count</th>\n",
       "      <td>891.000000</td>\n",
       "      <td>891.000000</td>\n",
       "      <td>891.000000</td>\n",
       "      <td>891</td>\n",
       "      <td>891</td>\n",
       "      <td>714.000000</td>\n",
       "      <td>891.000000</td>\n",
       "      <td>891.000000</td>\n",
       "      <td>891</td>\n",
       "      <td>891.000000</td>\n",
       "      <td>204</td>\n",
       "      <td>889</td>\n",
       "    </tr>\n",
       "    <tr>\n",
       "      <th>unique</th>\n",
       "      <td>NaN</td>\n",
       "      <td>NaN</td>\n",
       "      <td>NaN</td>\n",
       "      <td>891</td>\n",
       "      <td>2</td>\n",
       "      <td>NaN</td>\n",
       "      <td>NaN</td>\n",
       "      <td>NaN</td>\n",
       "      <td>681</td>\n",
       "      <td>NaN</td>\n",
       "      <td>147</td>\n",
       "      <td>3</td>\n",
       "    </tr>\n",
       "    <tr>\n",
       "      <th>top</th>\n",
       "      <td>NaN</td>\n",
       "      <td>NaN</td>\n",
       "      <td>NaN</td>\n",
       "      <td>Braund, Mr. Owen Harris</td>\n",
       "      <td>male</td>\n",
       "      <td>NaN</td>\n",
       "      <td>NaN</td>\n",
       "      <td>NaN</td>\n",
       "      <td>347082</td>\n",
       "      <td>NaN</td>\n",
       "      <td>B96 B98</td>\n",
       "      <td>S</td>\n",
       "    </tr>\n",
       "    <tr>\n",
       "      <th>freq</th>\n",
       "      <td>NaN</td>\n",
       "      <td>NaN</td>\n",
       "      <td>NaN</td>\n",
       "      <td>1</td>\n",
       "      <td>577</td>\n",
       "      <td>NaN</td>\n",
       "      <td>NaN</td>\n",
       "      <td>NaN</td>\n",
       "      <td>7</td>\n",
       "      <td>NaN</td>\n",
       "      <td>4</td>\n",
       "      <td>644</td>\n",
       "    </tr>\n",
       "    <tr>\n",
       "      <th>mean</th>\n",
       "      <td>446.000000</td>\n",
       "      <td>0.383838</td>\n",
       "      <td>2.308642</td>\n",
       "      <td>NaN</td>\n",
       "      <td>NaN</td>\n",
       "      <td>29.699118</td>\n",
       "      <td>0.523008</td>\n",
       "      <td>0.381594</td>\n",
       "      <td>NaN</td>\n",
       "      <td>32.204208</td>\n",
       "      <td>NaN</td>\n",
       "      <td>NaN</td>\n",
       "    </tr>\n",
       "    <tr>\n",
       "      <th>std</th>\n",
       "      <td>257.353842</td>\n",
       "      <td>0.486592</td>\n",
       "      <td>0.836071</td>\n",
       "      <td>NaN</td>\n",
       "      <td>NaN</td>\n",
       "      <td>14.526497</td>\n",
       "      <td>1.102743</td>\n",
       "      <td>0.806057</td>\n",
       "      <td>NaN</td>\n",
       "      <td>49.693429</td>\n",
       "      <td>NaN</td>\n",
       "      <td>NaN</td>\n",
       "    </tr>\n",
       "    <tr>\n",
       "      <th>min</th>\n",
       "      <td>1.000000</td>\n",
       "      <td>0.000000</td>\n",
       "      <td>1.000000</td>\n",
       "      <td>NaN</td>\n",
       "      <td>NaN</td>\n",
       "      <td>0.420000</td>\n",
       "      <td>0.000000</td>\n",
       "      <td>0.000000</td>\n",
       "      <td>NaN</td>\n",
       "      <td>0.000000</td>\n",
       "      <td>NaN</td>\n",
       "      <td>NaN</td>\n",
       "    </tr>\n",
       "    <tr>\n",
       "      <th>25%</th>\n",
       "      <td>223.500000</td>\n",
       "      <td>0.000000</td>\n",
       "      <td>2.000000</td>\n",
       "      <td>NaN</td>\n",
       "      <td>NaN</td>\n",
       "      <td>20.125000</td>\n",
       "      <td>0.000000</td>\n",
       "      <td>0.000000</td>\n",
       "      <td>NaN</td>\n",
       "      <td>7.910400</td>\n",
       "      <td>NaN</td>\n",
       "      <td>NaN</td>\n",
       "    </tr>\n",
       "    <tr>\n",
       "      <th>50%</th>\n",
       "      <td>446.000000</td>\n",
       "      <td>0.000000</td>\n",
       "      <td>3.000000</td>\n",
       "      <td>NaN</td>\n",
       "      <td>NaN</td>\n",
       "      <td>28.000000</td>\n",
       "      <td>0.000000</td>\n",
       "      <td>0.000000</td>\n",
       "      <td>NaN</td>\n",
       "      <td>14.454200</td>\n",
       "      <td>NaN</td>\n",
       "      <td>NaN</td>\n",
       "    </tr>\n",
       "    <tr>\n",
       "      <th>75%</th>\n",
       "      <td>668.500000</td>\n",
       "      <td>1.000000</td>\n",
       "      <td>3.000000</td>\n",
       "      <td>NaN</td>\n",
       "      <td>NaN</td>\n",
       "      <td>38.000000</td>\n",
       "      <td>1.000000</td>\n",
       "      <td>0.000000</td>\n",
       "      <td>NaN</td>\n",
       "      <td>31.000000</td>\n",
       "      <td>NaN</td>\n",
       "      <td>NaN</td>\n",
       "    </tr>\n",
       "    <tr>\n",
       "      <th>max</th>\n",
       "      <td>891.000000</td>\n",
       "      <td>1.000000</td>\n",
       "      <td>3.000000</td>\n",
       "      <td>NaN</td>\n",
       "      <td>NaN</td>\n",
       "      <td>80.000000</td>\n",
       "      <td>8.000000</td>\n",
       "      <td>6.000000</td>\n",
       "      <td>NaN</td>\n",
       "      <td>512.329200</td>\n",
       "      <td>NaN</td>\n",
       "      <td>NaN</td>\n",
       "    </tr>\n",
       "  </tbody>\n",
       "</table>\n",
       "</div>"
      ],
      "text/plain": [
       "        PassengerId    Survived      Pclass                     Name   Sex  \\\n",
       "count    891.000000  891.000000  891.000000                      891   891   \n",
       "unique          NaN         NaN         NaN                      891     2   \n",
       "top             NaN         NaN         NaN  Braund, Mr. Owen Harris  male   \n",
       "freq            NaN         NaN         NaN                        1   577   \n",
       "mean     446.000000    0.383838    2.308642                      NaN   NaN   \n",
       "std      257.353842    0.486592    0.836071                      NaN   NaN   \n",
       "min        1.000000    0.000000    1.000000                      NaN   NaN   \n",
       "25%      223.500000    0.000000    2.000000                      NaN   NaN   \n",
       "50%      446.000000    0.000000    3.000000                      NaN   NaN   \n",
       "75%      668.500000    1.000000    3.000000                      NaN   NaN   \n",
       "max      891.000000    1.000000    3.000000                      NaN   NaN   \n",
       "\n",
       "               Age       SibSp       Parch  Ticket        Fare    Cabin  \\\n",
       "count   714.000000  891.000000  891.000000     891  891.000000      204   \n",
       "unique         NaN         NaN         NaN     681         NaN      147   \n",
       "top            NaN         NaN         NaN  347082         NaN  B96 B98   \n",
       "freq           NaN         NaN         NaN       7         NaN        4   \n",
       "mean     29.699118    0.523008    0.381594     NaN   32.204208      NaN   \n",
       "std      14.526497    1.102743    0.806057     NaN   49.693429      NaN   \n",
       "min       0.420000    0.000000    0.000000     NaN    0.000000      NaN   \n",
       "25%      20.125000    0.000000    0.000000     NaN    7.910400      NaN   \n",
       "50%      28.000000    0.000000    0.000000     NaN   14.454200      NaN   \n",
       "75%      38.000000    1.000000    0.000000     NaN   31.000000      NaN   \n",
       "max      80.000000    8.000000    6.000000     NaN  512.329200      NaN   \n",
       "\n",
       "       Embarked  \n",
       "count       889  \n",
       "unique        3  \n",
       "top           S  \n",
       "freq        644  \n",
       "mean        NaN  \n",
       "std         NaN  \n",
       "min         NaN  \n",
       "25%         NaN  \n",
       "50%         NaN  \n",
       "75%         NaN  \n",
       "max         NaN  "
      ]
     },
     "metadata": {},
     "output_type": "display_data"
    }
   ],
   "source": [
    "# =================================\n",
    "# 2. Statistiques descriptives\n",
    "# =================================\n",
    "display(train_data.describe(include='all'))"
   ]
  },
  {
   "cell_type": "code",
   "execution_count": 6,
   "id": "3641c8db",
   "metadata": {
    "execution": {
     "iopub.execute_input": "2025-03-02T21:13:44.183176Z",
     "iopub.status.busy": "2025-03-02T21:13:44.182802Z",
     "iopub.status.idle": "2025-03-02T21:13:44.191437Z",
     "shell.execute_reply": "2025-03-02T21:13:44.190210Z"
    },
    "papermill": {
     "duration": 0.019395,
     "end_time": "2025-03-02T21:13:44.193258",
     "exception": false,
     "start_time": "2025-03-02T21:13:44.173863",
     "status": "completed"
    },
    "tags": []
   },
   "outputs": [
    {
     "name": "stdout",
     "output_type": "stream",
     "text": [
      "Répartition Survived :\n",
      " Survived\n",
      "0    549\n",
      "1    342\n",
      "Name: count, dtype: int64\n"
     ]
    }
   ],
   "source": [
    "# =================================\n",
    "# 3. Distribution de la variable cible\n",
    "# =================================\n",
    "survived_counts = train_data['Survived'].value_counts()\n",
    "print(\"Répartition Survived :\\n\", survived_counts)"
   ]
  },
  {
   "cell_type": "code",
   "execution_count": 7,
   "id": "310fb075",
   "metadata": {
    "execution": {
     "iopub.execute_input": "2025-03-02T21:13:44.210923Z",
     "iopub.status.busy": "2025-03-02T21:13:44.210482Z",
     "iopub.status.idle": "2025-03-02T21:13:44.444864Z",
     "shell.execute_reply": "2025-03-02T21:13:44.443677Z"
    },
    "papermill": {
     "duration": 0.245306,
     "end_time": "2025-03-02T21:13:44.446729",
     "exception": false,
     "start_time": "2025-03-02T21:13:44.201423",
     "status": "completed"
    },
    "tags": []
   },
   "outputs": [
    {
     "data": {
      "image/png": "[encoded data removed]",
      "text/plain": [
       "<Figure size 640x480 with 1 Axes>"
      ]
     },
     "metadata": {},
     "output_type": "display_data"
    }
   ],
   "source": [
    "# Visualisation de la répartition du taux de survivants\n",
    "plt.bar(['Non Survécu (0)', 'Survécu (1)'], survived_counts)\n",
    "plt.title(\"Répartition de la variable 'Survived'\")\n",
    "plt.show()"
   ]
  },
  {
   "cell_type": "code",
   "execution_count": 8,
   "id": "ae573156",
   "metadata": {
    "execution": {
     "iopub.execute_input": "2025-03-02T21:13:44.465339Z",
     "iopub.status.busy": "2025-03-02T21:13:44.464951Z",
     "iopub.status.idle": "2025-03-02T21:13:44.711432Z",
     "shell.execute_reply": "2025-03-02T21:13:44.710242Z"
    },
    "papermill": {
     "duration": 0.257914,
     "end_time": "2025-03-02T21:13:44.713288",
     "exception": false,
     "start_time": "2025-03-02T21:13:44.455374",
     "status": "completed"
    },
    "tags": []
   },
   "outputs": [
    {
     "data": {
      "image/png": "[encoded data removed]",
      "text/plain": [
       "<Figure size 640x480 with 1 Axes>"
      ]
     },
     "metadata": {},
     "output_type": "display_data"
    }
   ],
   "source": [
    "import matplotlib.pyplot as plt\n",
    "\n",
    "plt.hist(train_data['Age'].dropna(), bins=25)\n",
    "plt.xlabel('Age')\n",
    "plt.ylabel('Nombre de passagers')\n",
    "plt.title('Distribution de l\\'Age')\n",
    "plt.show()"
   ]
  },
  {
   "cell_type": "code",
   "execution_count": 9,
   "id": "20942caa",
   "metadata": {
    "execution": {
     "iopub.execute_input": "2025-03-02T21:13:44.732970Z",
     "iopub.status.busy": "2025-03-02T21:13:44.732533Z",
     "iopub.status.idle": "2025-03-02T21:13:44.947483Z",
     "shell.execute_reply": "2025-03-02T21:13:44.946133Z"
    },
    "papermill": {
     "duration": 0.227028,
     "end_time": "2025-03-02T21:13:44.949667",
     "exception": false,
     "start_time": "2025-03-02T21:13:44.722639",
     "status": "completed"
    },
    "tags": []
   },
   "outputs": [
    {
     "data": {
      "image/png": "[encoded data removed]",
      "text/plain": [
       "<Figure size 640x480 with 1 Axes>"
      ]
     },
     "metadata": {},
     "output_type": "display_data"
    }
   ],
   "source": [
    "plt.hist(train_data['Fare'].dropna(), bins=25)\n",
    "plt.xlabel('Fare')\n",
    "plt.ylabel('Nombre de passagers')\n",
    "plt.title('Distribution du prix du billet (Fare)')\n",
    "plt.show()"
   ]
  },
  {
   "cell_type": "code",
   "execution_count": 10,
   "id": "bdb3b453",
   "metadata": {
    "execution": {
     "iopub.execute_input": "2025-03-02T21:13:44.972253Z",
     "iopub.status.busy": "2025-03-02T21:13:44.971861Z",
     "iopub.status.idle": "2025-03-02T21:13:45.135849Z",
     "shell.execute_reply": "2025-03-02T21:13:45.134645Z"
    },
    "papermill": {
     "duration": 0.177069,
     "end_time": "2025-03-02T21:13:45.137924",
     "exception": false,
     "start_time": "2025-03-02T21:13:44.960855",
     "status": "completed"
    },
    "tags": []
   },
   "outputs": [
    {
     "data": {
      "image/png": "[encoded data removed]",
      "text/plain": [
       "<Figure size 640x480 with 1 Axes>"
      ]
     },
     "metadata": {},
     "output_type": "display_data"
    }
   ],
   "source": [
    "survived_by_sex = train_data.groupby('Sex')['Survived'].mean()\n",
    "\n",
    "plt.bar(survived_by_sex.index, survived_by_sex)\n",
    "plt.xlabel('Sex')\n",
    "plt.ylabel('Taux de Survie')\n",
    "plt.title('Taux de survie par sexe')\n",
    "plt.show()"
   ]
  },
  {
   "cell_type": "code",
   "execution_count": 11,
   "id": "4d93cff1",
   "metadata": {
    "execution": {
     "iopub.execute_input": "2025-03-02T21:13:45.160069Z",
     "iopub.status.busy": "2025-03-02T21:13:45.159616Z",
     "iopub.status.idle": "2025-03-02T21:13:45.376421Z",
     "shell.execute_reply": "2025-03-02T21:13:45.375212Z"
    },
    "papermill": {
     "duration": 0.229756,
     "end_time": "2025-03-02T21:13:45.378316",
     "exception": false,
     "start_time": "2025-03-02T21:13:45.148560",
     "status": "completed"
    },
    "tags": []
   },
   "outputs": [
    {
     "data": {
      "image/png": "[encoded data removed]",
      "text/plain": [
       "<Figure size 640x480 with 1 Axes>"
      ]
     },
     "metadata": {},
     "output_type": "display_data"
    }
   ],
   "source": [
    "survived_by_pclass = train_data.groupby('Pclass')['Survived'].mean()\n",
    "\n",
    "plt.bar(survived_by_pclass.index, survived_by_pclass)\n",
    "plt.xlabel('Pclass')\n",
    "plt.ylabel('Taux de Survie')\n",
    "plt.title('Taux de survie par classe de billet')\n",
    "plt.show()"
   ]
  },
  {
   "cell_type": "code",
   "execution_count": 12,
   "id": "81828e05",
   "metadata": {
    "execution": {
     "iopub.execute_input": "2025-03-02T21:13:45.401339Z",
     "iopub.status.busy": "2025-03-02T21:13:45.400994Z",
     "iopub.status.idle": "2025-03-02T21:13:45.667255Z",
     "shell.execute_reply": "2025-03-02T21:13:45.666050Z"
    },
    "papermill": {
     "duration": 0.279581,
     "end_time": "2025-03-02T21:13:45.669154",
     "exception": false,
     "start_time": "2025-03-02T21:13:45.389573",
     "status": "completed"
    },
    "tags": []
   },
   "outputs": [
    {
     "data": {
      "image/png": "[encoded data removed]",
      "text/plain": [
       "<Figure size 640x480 with 1 Axes>"
      ]
     },
     "metadata": {},
     "output_type": "display_data"
    }
   ],
   "source": [
    "plt.scatter(train_data['Age'], train_data['Survived'])\n",
    "plt.xlabel('Age')\n",
    "plt.ylabel('Survived')\n",
    "plt.title('Relation Age / Survived')\n",
    "plt.show()"
   ]
  },
  {
   "cell_type": "code",
   "execution_count": 13,
   "id": "40b432d4",
   "metadata": {
    "execution": {
     "iopub.execute_input": "2025-03-02T21:13:45.692804Z",
     "iopub.status.busy": "2025-03-02T21:13:45.692367Z",
     "iopub.status.idle": "2025-03-02T21:13:45.885479Z",
     "shell.execute_reply": "2025-03-02T21:13:45.884327Z"
    },
    "papermill": {
     "duration": 0.20681,
     "end_time": "2025-03-02T21:13:45.887255",
     "exception": false,
     "start_time": "2025-03-02T21:13:45.680445",
     "status": "completed"
    },
    "tags": []
   },
   "outputs": [
    {
     "data": {
      "image/png": "[encoded data removed]",
      "text/plain": [
       "<Figure size 640x480 with 1 Axes>"
      ]
     },
     "metadata": {},
     "output_type": "display_data"
    }
   ],
   "source": [
    "# Préparons les données pour chaque classe\n",
    "age_class1 = train_data[train_data['Pclass'] == 1]['Age'].dropna()\n",
    "age_class2 = train_data[train_data['Pclass'] == 2]['Age'].dropna()\n",
    "age_class3 = train_data[train_data['Pclass'] == 3]['Age'].dropna()\n",
    "\n",
    "plt.boxplot([age_class1, age_class2, age_class3], labels=['1ère classe', '2e classe', '3e classe'])\n",
    "plt.ylabel('Age')\n",
    "plt.title(\"Distribution de l'Age par classe\")\n",
    "plt.show()"
   ]
  },
  {
   "cell_type": "markdown",
   "id": "8d681649",
   "metadata": {
    "papermill": {
     "duration": 0.011641,
     "end_time": "2025-03-02T21:13:45.910797",
     "exception": false,
     "start_time": "2025-03-02T21:13:45.899156",
     "status": "completed"
    },
    "tags": []
   },
   "source": [
    "<a id=\"section3\"></a>\n",
    "# 🧹 **3. Prétraitement des données**\n",
    "\n",
    "Nous allons :\n",
    "\n",
    "- Gérer les valeurs manquantes (Age, Cabin, Embarked...).  \n",
    "- Supprimer ou convertir les colonnes jugées moins pertinentes (Ticket, Cabin...).  \n",
    "- Encoder les variables catégorielles (Sex, Embarked...).\n",
    "\n",
    "Objectif : Obtenir un dataset **prêt pour le Machine Learning**.\n"
   ]
  },
  {
   "cell_type": "code",
   "execution_count": 14,
   "id": "0db206d2",
   "metadata": {
    "execution": {
     "iopub.execute_input": "2025-03-02T21:13:45.937281Z",
     "iopub.status.busy": "2025-03-02T21:13:45.936900Z",
     "iopub.status.idle": "2025-03-02T21:13:45.941970Z",
     "shell.execute_reply": "2025-03-02T21:13:45.940880Z"
    },
    "papermill": {
     "duration": 0.019572,
     "end_time": "2025-03-02T21:13:45.943836",
     "exception": false,
     "start_time": "2025-03-02T21:13:45.924264",
     "status": "completed"
    },
    "tags": []
   },
   "outputs": [],
   "source": [
    "# ======================\n",
    "# 1. Copie des DataFrames\n",
    "# ======================\n",
    "train_df = train_data.copy()\n",
    "test_df = test_data.copy()"
   ]
  },
  {
   "cell_type": "code",
   "execution_count": 15,
   "id": "d3c99519",
   "metadata": {
    "execution": {
     "iopub.execute_input": "2025-03-02T21:13:45.968843Z",
     "iopub.status.busy": "2025-03-02T21:13:45.968412Z",
     "iopub.status.idle": "2025-03-02T21:13:45.977064Z",
     "shell.execute_reply": "2025-03-02T21:13:45.975696Z"
    },
    "papermill": {
     "duration": 0.02358,
     "end_time": "2025-03-02T21:13:45.979318",
     "exception": false,
     "start_time": "2025-03-02T21:13:45.955738",
     "status": "completed"
    },
    "tags": []
   },
   "outputs": [],
   "source": [
    "# =====================================\n",
    "# 2. Suppression de colonnes peu utiles\n",
    "# =====================================\n",
    "# (Cabin est souvent très incomplète et Ticket rarement utile)\n",
    "train_df.drop(['Cabin', 'Ticket'], axis=1, inplace=True)\n",
    "test_df.drop(['Cabin', 'Ticket'], axis=1, inplace=True)"
   ]
  },
  {
   "cell_type": "code",
   "execution_count": 16,
   "id": "155fca9d",
   "metadata": {
    "execution": {
     "iopub.execute_input": "2025-03-02T21:13:46.005626Z",
     "iopub.status.busy": "2025-03-02T21:13:46.005194Z",
     "iopub.status.idle": "2025-03-02T21:13:46.024272Z",
     "shell.execute_reply": "2025-03-02T21:13:46.022972Z"
    },
    "papermill": {
     "duration": 0.034969,
     "end_time": "2025-03-02T21:13:46.026532",
     "exception": false,
     "start_time": "2025-03-02T21:13:45.991563",
     "status": "completed"
    },
    "tags": []
   },
   "outputs": [
    {
     "name": "stdout",
     "output_type": "stream",
     "text": [
      "Valeurs manquantes dans train_df :\n",
      " PassengerId    0\n",
      "Survived       0\n",
      "Pclass         0\n",
      "Name           0\n",
      "Sex            0\n",
      "Age            0\n",
      "SibSp          0\n",
      "Parch          0\n",
      "Fare           0\n",
      "Embarked       0\n",
      "dtype: int64\n",
      "\n",
      "Valeurs manquantes dans test_df :\n",
      " PassengerId    0\n",
      "Pclass         0\n",
      "Name           0\n",
      "Sex            0\n",
      "Age            0\n",
      "SibSp          0\n",
      "Parch          0\n",
      "Fare           1\n",
      "Embarked       0\n",
      "dtype: int64\n"
     ]
    },
    {
     "name": "stderr",
     "output_type": "stream",
     "text": [
      "<ipython-input-16-d1928306f801>:6: FutureWarning: A value is trying to be set on a copy of a DataFrame or Series through chained assignment using an inplace method.\n",
      "The behavior will change in pandas 3.0. This inplace method will never work because the intermediate object on which we are setting values always behaves as a copy.\n",
      "\n",
      "For example, when doing 'df[col].method(value, inplace=True)', try using 'df.method({col: value}, inplace=True)' or df[col] = df[col].method(value) instead, to perform the operation inplace on the original object.\n",
      "\n",
      "\n",
      "  train_df['Embarked'].fillna(most_common_embarked, inplace=True)\n",
      "<ipython-input-16-d1928306f801>:7: FutureWarning: A value is trying to be set on a copy of a DataFrame or Series through chained assignment using an inplace method.\n",
      "The behavior will change in pandas 3.0. This inplace method will never work because the intermediate object on which we are setting values always behaves as a copy.\n",
      "\n",
      "For example, when doing 'df[col].method(value, inplace=True)', try using 'df.method({col: value}, inplace=True)' or df[col] = df[col].method(value) instead, to perform the operation inplace on the original object.\n",
      "\n",
      "\n",
      "  test_df['Embarked'].fillna(most_common_embarked, inplace=True)\n"
     ]
    }
   ],
   "source": [
    "# ======================================\n",
    "# 3. Traitement des valeurs manquantes\n",
    "# ======================================\n",
    "# Embarked (remplacement par la valeur la plus fréquente)\n",
    "most_common_embarked = train_df['Embarked'].mode()[0]\n",
    "train_df['Embarked'].fillna(most_common_embarked, inplace=True)\n",
    "test_df['Embarked'].fillna(most_common_embarked, inplace=True)\n",
    "\n",
    "# Age (imputation par la moyenne)\n",
    "imputer = SimpleImputer(strategy='mean')\n",
    "train_df['Age'] = imputer.fit_transform(train_df[['Age']])\n",
    "test_df['Age'] = imputer.transform(test_df[['Age']])\n",
    "\n",
    "# Vérification rapide\n",
    "print(\"Valeurs manquantes dans train_df :\\n\", train_df.isnull().sum())\n",
    "print(\"\\nValeurs manquantes dans test_df :\\n\", test_df.isnull().sum())"
   ]
  },
  {
   "cell_type": "code",
   "execution_count": 17,
   "id": "b764116f",
   "metadata": {
    "execution": {
     "iopub.execute_input": "2025-03-02T21:13:46.052149Z",
     "iopub.status.busy": "2025-03-02T21:13:46.051697Z",
     "iopub.status.idle": "2025-03-02T21:13:46.058259Z",
     "shell.execute_reply": "2025-03-02T21:13:46.057131Z"
    },
    "papermill": {
     "duration": 0.021174,
     "end_time": "2025-03-02T21:13:46.060093",
     "exception": false,
     "start_time": "2025-03-02T21:13:46.038919",
     "status": "completed"
    },
    "tags": []
   },
   "outputs": [],
   "source": [
    "# =====================\n",
    "# 4. Encodage du Sex\n",
    "# =====================\n",
    "le_sex = LabelEncoder()\n",
    "train_df['Sex'] = le_sex.fit_transform(train_df['Sex'])\n",
    "test_df['Sex'] = le_sex.transform(test_df['Sex'])"
   ]
  },
  {
   "cell_type": "code",
   "execution_count": 18,
   "id": "97f68582",
   "metadata": {
    "execution": {
     "iopub.execute_input": "2025-03-02T21:13:46.086241Z",
     "iopub.status.busy": "2025-03-02T21:13:46.085889Z",
     "iopub.status.idle": "2025-03-02T21:13:46.091699Z",
     "shell.execute_reply": "2025-03-02T21:13:46.090803Z"
    },
    "papermill": {
     "duration": 0.020837,
     "end_time": "2025-03-02T21:13:46.093233",
     "exception": false,
     "start_time": "2025-03-02T21:13:46.072396",
     "status": "completed"
    },
    "tags": []
   },
   "outputs": [],
   "source": [
    "# =========================\n",
    "# 5. Encodage du Embarked\n",
    "# =========================\n",
    "le_embarked = LabelEncoder()\n",
    "train_df['Embarked'] = le_embarked.fit_transform(train_df['Embarked'])\n",
    "test_df['Embarked'] = le_embarked.transform(test_df['Embarked'])"
   ]
  },
  {
   "cell_type": "code",
   "execution_count": 19,
   "id": "84e00a6c",
   "metadata": {
    "execution": {
     "iopub.execute_input": "2025-03-02T21:13:46.118581Z",
     "iopub.status.busy": "2025-03-02T21:13:46.118190Z",
     "iopub.status.idle": "2025-03-02T21:13:46.131125Z",
     "shell.execute_reply": "2025-03-02T21:13:46.129997Z"
    },
    "papermill": {
     "duration": 0.027648,
     "end_time": "2025-03-02T21:13:46.132975",
     "exception": false,
     "start_time": "2025-03-02T21:13:46.105327",
     "status": "completed"
    },
    "tags": []
   },
   "outputs": [
    {
     "data": {
      "text/html": [
       "<div>\n",
       "<style scoped>\n",
       "    .dataframe tbody tr th:only-of-type {\n",
       "        vertical-align: middle;\n",
       "    }\n",
       "\n",
       "    .dataframe tbody tr th {\n",
       "        vertical-align: top;\n",
       "    }\n",
       "\n",
       "    .dataframe thead th {\n",
       "        text-align: right;\n",
       "    }\n",
       "</style>\n",
       "<table border=\"1\" class=\"dataframe\">\n",
       "  <thead>\n",
       "    <tr style=\"text-align: right;\">\n",
       "      <th></th>\n",
       "      <th>PassengerId</th>\n",
       "      <th>Survived</th>\n",
       "      <th>Pclass</th>\n",
       "      <th>Name</th>\n",
       "      <th>Sex</th>\n",
       "      <th>Age</th>\n",
       "      <th>SibSp</th>\n",
       "      <th>Parch</th>\n",
       "      <th>Fare</th>\n",
       "      <th>Embarked</th>\n",
       "    </tr>\n",
       "  </thead>\n",
       "  <tbody>\n",
       "    <tr>\n",
       "      <th>0</th>\n",
       "      <td>1</td>\n",
       "      <td>0</td>\n",
       "      <td>3</td>\n",
       "      <td>Braund, Mr. Owen Harris</td>\n",
       "      <td>1</td>\n",
       "      <td>22.0</td>\n",
       "      <td>1</td>\n",
       "      <td>0</td>\n",
       "      <td>7.2500</td>\n",
       "      <td>2</td>\n",
       "    </tr>\n",
       "    <tr>\n",
       "      <th>1</th>\n",
       "      <td>2</td>\n",
       "      <td>1</td>\n",
       "      <td>1</td>\n",
       "      <td>Cumings, Mrs. John Bradley (Florence Briggs Th...</td>\n",
       "      <td>0</td>\n",
       "      <td>38.0</td>\n",
       "      <td>1</td>\n",
       "      <td>0</td>\n",
       "      <td>71.2833</td>\n",
       "      <td>0</td>\n",
       "    </tr>\n",
       "    <tr>\n",
       "      <th>2</th>\n",
       "      <td>3</td>\n",
       "      <td>1</td>\n",
       "      <td>3</td>\n",
       "      <td>Heikkinen, Miss. Laina</td>\n",
       "      <td>0</td>\n",
       "      <td>26.0</td>\n",
       "      <td>0</td>\n",
       "      <td>0</td>\n",
       "      <td>7.9250</td>\n",
       "      <td>2</td>\n",
       "    </tr>\n",
       "    <tr>\n",
       "      <th>3</th>\n",
       "      <td>4</td>\n",
       "      <td>1</td>\n",
       "      <td>1</td>\n",
       "      <td>Futrelle, Mrs. Jacques Heath (Lily May Peel)</td>\n",
       "      <td>0</td>\n",
       "      <td>35.0</td>\n",
       "      <td>1</td>\n",
       "      <td>0</td>\n",
       "      <td>53.1000</td>\n",
       "      <td>2</td>\n",
       "    </tr>\n",
       "    <tr>\n",
       "      <th>4</th>\n",
       "      <td>5</td>\n",
       "      <td>0</td>\n",
       "      <td>3</td>\n",
       "      <td>Allen, Mr. William Henry</td>\n",
       "      <td>1</td>\n",
       "      <td>35.0</td>\n",
       "      <td>0</td>\n",
       "      <td>0</td>\n",
       "      <td>8.0500</td>\n",
       "      <td>2</td>\n",
       "    </tr>\n",
       "  </tbody>\n",
       "</table>\n",
       "</div>"
      ],
      "text/plain": [
       "   PassengerId  Survived  Pclass  \\\n",
       "0            1         0       3   \n",
       "1            2         1       1   \n",
       "2            3         1       3   \n",
       "3            4         1       1   \n",
       "4            5         0       3   \n",
       "\n",
       "                                                Name  Sex   Age  SibSp  Parch  \\\n",
       "0                            Braund, Mr. Owen Harris    1  22.0      1      0   \n",
       "1  Cumings, Mrs. John Bradley (Florence Briggs Th...    0  38.0      1      0   \n",
       "2                             Heikkinen, Miss. Laina    0  26.0      0      0   \n",
       "3       Futrelle, Mrs. Jacques Heath (Lily May Peel)    0  35.0      1      0   \n",
       "4                           Allen, Mr. William Henry    1  35.0      0      0   \n",
       "\n",
       "      Fare  Embarked  \n",
       "0   7.2500         2  \n",
       "1  71.2833         0  \n",
       "2   7.9250         2  \n",
       "3  53.1000         2  \n",
       "4   8.0500         2  "
      ]
     },
     "metadata": {},
     "output_type": "display_data"
    }
   ],
   "source": [
    "# Aperçu du résultat\n",
    "display(train_df.head())"
   ]
  },
  {
   "cell_type": "markdown",
   "id": "c31a2c4b",
   "metadata": {
    "papermill": {
     "duration": 0.013069,
     "end_time": "2025-03-02T21:13:46.158549",
     "exception": false,
     "start_time": "2025-03-02T21:13:46.145480",
     "status": "completed"
    },
    "tags": []
   },
   "source": [
    "# 🕳 **Observation des valeurs manquantes**\n",
    "\n",
    "- `Age` : plusieurs valeurs manquantes (souvent imputées par la moyenne ou la médiane).  \n",
    "- `Cabin` : souvent très incomplet ; on peut le retirer ou en faire un indicateur binaire (CabinKnown vs. Unknown).  \n",
    "- `Embarked` : rarement manquant, mais on peut remplacer par la valeur la plus fréquente (le mode).\n"
   ]
  },
  {
   "cell_type": "markdown",
   "id": "8d575256",
   "metadata": {
    "papermill": {
     "duration": 0.01259,
     "end_time": "2025-03-02T21:13:46.184247",
     "exception": false,
     "start_time": "2025-03-02T21:13:46.171657",
     "status": "completed"
    },
    "tags": []
   },
   "source": [
    "# 🔐 **Encodage des variables catégorielles**\n",
    "\n",
    "- `Sex` : transformation de *male/female* en valeurs numériques (0/1 ou 1/0).  \n",
    "- `Embarked` : transformation de *C/Q/S* via `LabelEncoder` ou `pd.get_dummies`.\n"
   ]
  },
  {
   "cell_type": "markdown",
   "id": "4285baf6",
   "metadata": {
    "papermill": {
     "duration": 0.012013,
     "end_time": "2025-03-02T21:13:46.208791",
     "exception": false,
     "start_time": "2025-03-02T21:13:46.196778",
     "status": "completed"
    },
    "tags": []
   },
   "source": [
    "<a id=\"section4\"></a>\n",
    "# 🏗 **4. Feature Engineering**\n",
    "\n",
    "Pour améliorer la performance, on peut générer de nouvelles variables à partir de l’existant :\n",
    "\n",
    "- **Title** : Extraire (Mr, Mrs, Miss, Dr...) depuis le *Name*.  \n",
    "- **FamilySize** : Calculer `SibSp + Parch + 1`.  \n",
    "- Regrouper des catégories rares ou transformer certaines features (ex. regrouper par tranches d’âge).\n"
   ]
  },
  {
   "cell_type": "code",
   "execution_count": 20,
   "id": "ba871783",
   "metadata": {
    "execution": {
     "iopub.execute_input": "2025-03-02T21:13:46.234800Z",
     "iopub.status.busy": "2025-03-02T21:13:46.234398Z",
     "iopub.status.idle": "2025-03-02T21:13:46.250031Z",
     "shell.execute_reply": "2025-03-02T21:13:46.249068Z"
    },
    "papermill": {
     "duration": 0.030929,
     "end_time": "2025-03-02T21:13:46.252050",
     "exception": false,
     "start_time": "2025-03-02T21:13:46.221121",
     "status": "completed"
    },
    "tags": []
   },
   "outputs": [],
   "source": [
    "# ========================\n",
    "# 1. Extraire le Title\n",
    "# ========================\n",
    "def extract_title(name):\n",
    "    return name.split(',')[1].split('.')[0].strip()\n",
    "\n",
    "train_df['Title'] = train_df['Name'].apply(extract_title)\n",
    "test_df['Title'] = test_df['Name'].apply(extract_title)\n",
    "\n",
    "# On regroupe les titres rares\n",
    "rare_titles = ['Dr', 'Rev', 'Col', 'Major', 'Lady', 'Countess',\n",
    "               'Jonkheer', 'Don', 'Dona', 'Mme', 'Ms', 'Mlle', 'Capt', 'Sir']\n",
    "train_df['Title'] = train_df['Title'].replace(rare_titles, 'Rare')\n",
    "test_df['Title'] = test_df['Title'].replace(rare_titles, 'Rare')\n",
    "\n",
    "# Encodage en numérique\n",
    "le_title = LabelEncoder()\n",
    "train_df['Title'] = le_title.fit_transform(train_df['Title'])\n",
    "test_df['Title'] = le_title.transform(test_df['Title'])"
   ]
  },
  {
   "cell_type": "code",
   "execution_count": 21,
   "id": "191572be",
   "metadata": {
    "execution": {
     "iopub.execute_input": "2025-03-02T21:13:46.278444Z",
     "iopub.status.busy": "2025-03-02T21:13:46.278050Z",
     "iopub.status.idle": "2025-03-02T21:13:46.288102Z",
     "shell.execute_reply": "2025-03-02T21:13:46.287034Z"
    },
    "papermill": {
     "duration": 0.025491,
     "end_time": "2025-03-02T21:13:46.290048",
     "exception": false,
     "start_time": "2025-03-02T21:13:46.264557",
     "status": "completed"
    },
    "tags": []
   },
   "outputs": [],
   "source": [
    "# ==========================\n",
    "# 2. Calcul de FamilySize\n",
    "# ==========================\n",
    "train_df['FamilySize'] = train_df['SibSp'] + train_df['Parch'] + 1\n",
    "test_df['FamilySize'] = test_df['SibSp'] + test_df['Parch'] + 1\n",
    "\n",
    "# On peut supprimer la colonne Name si elle ne nous est plus utile\n",
    "train_df.drop('Name', axis=1, inplace=True)\n",
    "test_df.drop('Name', axis=1, inplace=True)"
   ]
  },
  {
   "cell_type": "code",
   "execution_count": 22,
   "id": "6966603c",
   "metadata": {
    "execution": {
     "iopub.execute_input": "2025-03-02T21:13:46.319321Z",
     "iopub.status.busy": "2025-03-02T21:13:46.318961Z",
     "iopub.status.idle": "2025-03-02T21:13:46.332351Z",
     "shell.execute_reply": "2025-03-02T21:13:46.331012Z"
    },
    "papermill": {
     "duration": 0.031798,
     "end_time": "2025-03-02T21:13:46.334409",
     "exception": false,
     "start_time": "2025-03-02T21:13:46.302611",
     "status": "completed"
    },
    "tags": []
   },
   "outputs": [
    {
     "data": {
      "text/html": [
       "<div>\n",
       "<style scoped>\n",
       "    .dataframe tbody tr th:only-of-type {\n",
       "        vertical-align: middle;\n",
       "    }\n",
       "\n",
       "    .dataframe tbody tr th {\n",
       "        vertical-align: top;\n",
       "    }\n",
       "\n",
       "    .dataframe thead th {\n",
       "        text-align: right;\n",
       "    }\n",
       "</style>\n",
       "<table border=\"1\" class=\"dataframe\">\n",
       "  <thead>\n",
       "    <tr style=\"text-align: right;\">\n",
       "      <th></th>\n",
       "      <th>PassengerId</th>\n",
       "      <th>Survived</th>\n",
       "      <th>Pclass</th>\n",
       "      <th>Sex</th>\n",
       "      <th>Age</th>\n",
       "      <th>SibSp</th>\n",
       "      <th>Parch</th>\n",
       "      <th>Fare</th>\n",
       "      <th>Embarked</th>\n",
       "      <th>Title</th>\n",
       "      <th>FamilySize</th>\n",
       "    </tr>\n",
       "  </thead>\n",
       "  <tbody>\n",
       "    <tr>\n",
       "      <th>0</th>\n",
       "      <td>1</td>\n",
       "      <td>0</td>\n",
       "      <td>3</td>\n",
       "      <td>1</td>\n",
       "      <td>22.0</td>\n",
       "      <td>1</td>\n",
       "      <td>0</td>\n",
       "      <td>7.2500</td>\n",
       "      <td>2</td>\n",
       "      <td>2</td>\n",
       "      <td>2</td>\n",
       "    </tr>\n",
       "    <tr>\n",
       "      <th>1</th>\n",
       "      <td>2</td>\n",
       "      <td>1</td>\n",
       "      <td>1</td>\n",
       "      <td>0</td>\n",
       "      <td>38.0</td>\n",
       "      <td>1</td>\n",
       "      <td>0</td>\n",
       "      <td>71.2833</td>\n",
       "      <td>0</td>\n",
       "      <td>3</td>\n",
       "      <td>2</td>\n",
       "    </tr>\n",
       "    <tr>\n",
       "      <th>2</th>\n",
       "      <td>3</td>\n",
       "      <td>1</td>\n",
       "      <td>3</td>\n",
       "      <td>0</td>\n",
       "      <td>26.0</td>\n",
       "      <td>0</td>\n",
       "      <td>0</td>\n",
       "      <td>7.9250</td>\n",
       "      <td>2</td>\n",
       "      <td>1</td>\n",
       "      <td>1</td>\n",
       "    </tr>\n",
       "    <tr>\n",
       "      <th>3</th>\n",
       "      <td>4</td>\n",
       "      <td>1</td>\n",
       "      <td>1</td>\n",
       "      <td>0</td>\n",
       "      <td>35.0</td>\n",
       "      <td>1</td>\n",
       "      <td>0</td>\n",
       "      <td>53.1000</td>\n",
       "      <td>2</td>\n",
       "      <td>3</td>\n",
       "      <td>2</td>\n",
       "    </tr>\n",
       "    <tr>\n",
       "      <th>4</th>\n",
       "      <td>5</td>\n",
       "      <td>0</td>\n",
       "      <td>3</td>\n",
       "      <td>1</td>\n",
       "      <td>35.0</td>\n",
       "      <td>0</td>\n",
       "      <td>0</td>\n",
       "      <td>8.0500</td>\n",
       "      <td>2</td>\n",
       "      <td>2</td>\n",
       "      <td>1</td>\n",
       "    </tr>\n",
       "  </tbody>\n",
       "</table>\n",
       "</div>"
      ],
      "text/plain": [
       "   PassengerId  Survived  Pclass  Sex   Age  SibSp  Parch     Fare  Embarked  \\\n",
       "0            1         0       3    1  22.0      1      0   7.2500         2   \n",
       "1            2         1       1    0  38.0      1      0  71.2833         0   \n",
       "2            3         1       3    0  26.0      0      0   7.9250         2   \n",
       "3            4         1       1    0  35.0      1      0  53.1000         2   \n",
       "4            5         0       3    1  35.0      0      0   8.0500         2   \n",
       "\n",
       "   Title  FamilySize  \n",
       "0      2           2  \n",
       "1      3           2  \n",
       "2      1           1  \n",
       "3      3           2  \n",
       "4      2           1  "
      ]
     },
     "metadata": {},
     "output_type": "display_data"
    }
   ],
   "source": [
    "# Vérification finale\n",
    "display(train_df.head())"
   ]
  },
  {
   "cell_type": "markdown",
   "id": "85ceea72",
   "metadata": {
    "papermill": {
     "duration": 0.012592,
     "end_time": "2025-03-02T21:13:46.360407",
     "exception": false,
     "start_time": "2025-03-02T21:13:46.347815",
     "status": "completed"
    },
    "tags": []
   },
   "source": [
    "<a id=\"section5\"></a>\n",
    "# 🤖 **5. Modélisation**\n",
    "\n",
    "- Séparer la variable cible (*Survived*) du reste des features.  \n",
    "- Diviser l’entraînement en un *train set* et un *validation set* (ex. 80 % / 20 %).  \n",
    "- Tester différents algorithmes (RandomForest, LogisticRegression, XGBoost, etc.).  \n",
    "- Évaluer la performance via **accuracy**, **cross-validation**, ou **matrice de confusion**.\n"
   ]
  },
  {
   "cell_type": "code",
   "execution_count": 23,
   "id": "d935b646",
   "metadata": {
    "execution": {
     "iopub.execute_input": "2025-03-02T21:13:46.387829Z",
     "iopub.status.busy": "2025-03-02T21:13:46.387420Z",
     "iopub.status.idle": "2025-03-02T21:13:46.393011Z",
     "shell.execute_reply": "2025-03-02T21:13:46.391976Z"
    },
    "papermill": {
     "duration": 0.021187,
     "end_time": "2025-03-02T21:13:46.394652",
     "exception": false,
     "start_time": "2025-03-02T21:13:46.373465",
     "status": "completed"
    },
    "tags": []
   },
   "outputs": [],
   "source": [
    "# ===============================\n",
    "# 1. Séparation features / cible\n",
    "# ===============================\n",
    "X = train_df.drop('Survived', axis=1)\n",
    "y = train_df['Survived']"
   ]
  },
  {
   "cell_type": "code",
   "execution_count": 24,
   "id": "f4f549f4",
   "metadata": {
    "execution": {
     "iopub.execute_input": "2025-03-02T21:13:46.421507Z",
     "iopub.status.busy": "2025-03-02T21:13:46.421167Z",
     "iopub.status.idle": "2025-03-02T21:13:46.428176Z",
     "shell.execute_reply": "2025-03-02T21:13:46.427281Z"
    },
    "papermill": {
     "duration": 0.02239,
     "end_time": "2025-03-02T21:13:46.429819",
     "exception": false,
     "start_time": "2025-03-02T21:13:46.407429",
     "status": "completed"
    },
    "tags": []
   },
   "outputs": [],
   "source": [
    "# =============================================================\n",
    "# 2. Division en train set / validation set (ex. 80% / 20%)\n",
    "# =============================================================\n",
    "X_train, X_val, y_train, y_val = train_test_split(\n",
    "    X, y,\n",
    "    test_size=0.2,\n",
    "    random_state=42\n",
    ")"
   ]
  },
  {
   "cell_type": "code",
   "execution_count": 25,
   "id": "7d1e51a5",
   "metadata": {
    "execution": {
     "iopub.execute_input": "2025-03-02T21:13:46.457273Z",
     "iopub.status.busy": "2025-03-02T21:13:46.456922Z",
     "iopub.status.idle": "2025-03-02T21:13:46.687105Z",
     "shell.execute_reply": "2025-03-02T21:13:46.686072Z"
    },
    "papermill": {
     "duration": 0.246116,
     "end_time": "2025-03-02T21:13:46.688955",
     "exception": false,
     "start_time": "2025-03-02T21:13:46.442839",
     "status": "completed"
    },
    "tags": []
   },
   "outputs": [
    {
     "data": {
      "text/html": [
       "<style>#sk-container-id-1 {color: black;background-color: white;}#sk-container-id-1 pre{padding: 0;}#sk-container-id-1 div.sk-toggleable {background-color: white;}#sk-container-id-1 label.sk-toggleable__label {cursor: pointer;display: block;width: 100%;margin-bottom: 0;padding: 0.3em;box-sizing: border-box;text-align: center;}#sk-container-id-1 label.sk-toggleable__label-arrow:before {content: \"▸\";float: left;margin-right: 0.25em;color: #696969;}#sk-container-id-1 label.sk-toggleable__label-arrow:hover:before {color: black;}#sk-container-id-1 div.sk-estimator:hover label.sk-toggleable__label-arrow:before {color: black;}#sk-container-id-1 div.sk-toggleable__content {max-height: 0;max-width: 0;overflow: hidden;text-align: left;background-color: #f0f8ff;}#sk-container-id-1 div.sk-toggleable__content pre {margin: 0.2em;color: black;border-radius: 0.25em;background-color: #f0f8ff;}#sk-container-id-1 input.sk-toggleable__control:checked~div.sk-toggleable__content {max-height: 200px;max-width: 100%;overflow: auto;}#sk-container-id-1 input.sk-toggleable__control:checked~label.sk-toggleable__label-arrow:before {content: \"▾\";}#sk-container-id-1 div.sk-estimator input.sk-toggleable__control:checked~label.sk-toggleable__label {background-color: #d4ebff;}#sk-container-id-1 div.sk-label input.sk-toggleable__control:checked~label.sk-toggleable__label {background-color: #d4ebff;}#sk-container-id-1 input.sk-hidden--visually {border: 0;clip: rect(1px 1px 1px 1px);clip: rect(1px, 1px, 1px, 1px);height: 1px;margin: -1px;overflow: hidden;padding: 0;position: absolute;width: 1px;}#sk-container-id-1 div.sk-estimator {font-family: monospace;background-color: #f0f8ff;border: 1px dotted black;border-radius: 0.25em;box-sizing: border-box;margin-bottom: 0.5em;}#sk-container-id-1 div.sk-estimator:hover {background-color: #d4ebff;}#sk-container-id-1 div.sk-parallel-item::after {content: \"\";width: 100%;border-bottom: 1px solid gray;flex-grow: 1;}#sk-container-id-1 div.sk-label:hover label.sk-toggleable__label {background-color: #d4ebff;}#sk-container-id-1 div.sk-serial::before {content: \"\";position: absolute;border-left: 1px solid gray;box-sizing: border-box;top: 0;bottom: 0;left: 50%;z-index: 0;}#sk-container-id-1 div.sk-serial {display: flex;flex-direction: column;align-items: center;background-color: white;padding-right: 0.2em;padding-left: 0.2em;position: relative;}#sk-container-id-1 div.sk-item {position: relative;z-index: 1;}#sk-container-id-1 div.sk-parallel {display: flex;align-items: stretch;justify-content: center;background-color: white;position: relative;}#sk-container-id-1 div.sk-item::before, #sk-container-id-1 div.sk-parallel-item::before {content: \"\";position: absolute;border-left: 1px solid gray;box-sizing: border-box;top: 0;bottom: 0;left: 50%;z-index: -1;}#sk-container-id-1 div.sk-parallel-item {display: flex;flex-direction: column;z-index: 1;position: relative;background-color: white;}#sk-container-id-1 div.sk-parallel-item:first-child::after {align-self: flex-end;width: 50%;}#sk-container-id-1 div.sk-parallel-item:last-child::after {align-self: flex-start;width: 50%;}#sk-container-id-1 div.sk-parallel-item:only-child::after {width: 0;}#sk-container-id-1 div.sk-dashed-wrapped {border: 1px dashed gray;margin: 0 0.4em 0.5em 0.4em;box-sizing: border-box;padding-bottom: 0.4em;background-color: white;}#sk-container-id-1 div.sk-label label {font-family: monospace;font-weight: bold;display: inline-block;line-height: 1.2em;}#sk-container-id-1 div.sk-label-container {text-align: center;}#sk-container-id-1 div.sk-container {/* jupyter's `normalize.less` sets `[hidden] { display: none; }` but bootstrap.min.css set `[hidden] { display: none !important; }` so we also need the `!important` here to be able to override the default hidden behavior on the sphinx rendered scikit-learn.org. See: https://github.com/scikit-learn/scikit-learn/issues/21755 */display: inline-block !important;position: relative;}#sk-container-id-1 div.sk-text-repr-fallback {display: none;}</style><div id=\"sk-container-id-1\" class=\"sk-top-container\"><div class=\"sk-text-repr-fallback\"><pre>RandomForestClassifier(random_state=42)</pre><b>In a Jupyter environment, please rerun this cell to show the HTML representation or trust the notebook. <br />On GitHub, the HTML representation is unable to render, please try loading this page with nbviewer.org.</b></div><div class=\"sk-container\" hidden><div class=\"sk-item\"><div class=\"sk-estimator sk-toggleable\"><input class=\"sk-toggleable__control sk-hidden--visually\" id=\"sk-estimator-id-1\" type=\"checkbox\" checked><label for=\"sk-estimator-id-1\" class=\"sk-toggleable__label sk-toggleable__label-arrow\">RandomForestClassifier</label><div class=\"sk-toggleable__content\"><pre>RandomForestClassifier(random_state=42)</pre></div></div></div></div></div>"
      ],
      "text/plain": [
       "RandomForestClassifier(random_state=42)"
      ]
     },
     "execution_count": 25,
     "metadata": {},
     "output_type": "execute_result"
    }
   ],
   "source": [
    "# =============================\n",
    "# 3. Entraînement d'un modèle\n",
    "# =============================\n",
    "model = RandomForestClassifier(n_estimators=100, random_state=42)\n",
    "model.fit(X_train, y_train)"
   ]
  },
  {
   "cell_type": "code",
   "execution_count": 26,
   "id": "1997e270",
   "metadata": {
    "execution": {
     "iopub.execute_input": "2025-03-02T21:13:46.716527Z",
     "iopub.status.busy": "2025-03-02T21:13:46.716146Z",
     "iopub.status.idle": "2025-03-02T21:13:46.734695Z",
     "shell.execute_reply": "2025-03-02T21:13:46.733435Z"
    },
    "papermill": {
     "duration": 0.034675,
     "end_time": "2025-03-02T21:13:46.736845",
     "exception": false,
     "start_time": "2025-03-02T21:13:46.702170",
     "status": "completed"
    },
    "tags": []
   },
   "outputs": [
    {
     "name": "stdout",
     "output_type": "stream",
     "text": [
      "Accuracy sur le set de validation : 0.8491620111731844\n"
     ]
    }
   ],
   "source": [
    "# ======================\n",
    "# 4. Évaluation initiale\n",
    "# ======================\n",
    "y_pred = model.predict(X_val)\n",
    "accuracy = accuracy_score(y_val, y_pred)\n",
    "print(\"Accuracy sur le set de validation :\", accuracy)"
   ]
  },
  {
   "cell_type": "code",
   "execution_count": 27,
   "id": "638e9eef",
   "metadata": {
    "execution": {
     "iopub.execute_input": "2025-03-02T21:13:46.764318Z",
     "iopub.status.busy": "2025-03-02T21:13:46.763933Z",
     "iopub.status.idle": "2025-03-02T21:13:47.848327Z",
     "shell.execute_reply": "2025-03-02T21:13:47.847089Z"
    },
    "papermill": {
     "duration": 1.100351,
     "end_time": "2025-03-02T21:13:47.850317",
     "exception": false,
     "start_time": "2025-03-02T21:13:46.749966",
     "status": "completed"
    },
    "tags": []
   },
   "outputs": [
    {
     "name": "stdout",
     "output_type": "stream",
     "text": [
      "Cross-val (5 folds) Accuracy : 0.8159625886636117\n"
     ]
    }
   ],
   "source": [
    "# Bonus : Cross-validation sur l'ensemble train_df\n",
    "cv_scores = cross_val_score(model, X, y, cv=5)\n",
    "print(\"Cross-val (5 folds) Accuracy :\", np.mean(cv_scores))"
   ]
  },
  {
   "cell_type": "markdown",
   "id": "88ce4124",
   "metadata": {
    "papermill": {
     "duration": 0.013168,
     "end_time": "2025-03-02T21:13:47.877281",
     "exception": false,
     "start_time": "2025-03-02T21:13:47.864113",
     "status": "completed"
    },
    "tags": []
   },
   "source": [
    "<a id=\"section6\"></a>\n",
    "# 🏁 **6. Évaluation et soumission**\n",
    "\n",
    "- Générer les prédictions sur le jeu de test (qui ne contient pas la colonne *Survived*).  \n",
    "- Créer un fichier `submission.csv` contenant le *PassengerId* et la prédiction *Survived*.  \n",
    "- Soumettre le fichier sur la plateforme Kaggle pour obtenir un score.\n",
    "\n",
    "**Conseil** : Testez plusieurs modèles et hyperparamètres, affinez le *Feature Engineering* pour gagner des points !\n"
   ]
  },
  {
   "cell_type": "code",
   "execution_count": 28,
   "id": "d618c14a",
   "metadata": {
    "execution": {
     "iopub.execute_input": "2025-03-02T21:13:47.905771Z",
     "iopub.status.busy": "2025-03-02T21:13:47.905365Z",
     "iopub.status.idle": "2025-03-02T21:13:47.915209Z",
     "shell.execute_reply": "2025-03-02T21:13:47.913872Z"
    },
    "papermill": {
     "duration": 0.025781,
     "end_time": "2025-03-02T21:13:47.917112",
     "exception": false,
     "start_time": "2025-03-02T21:13:47.891331",
     "status": "completed"
    },
    "tags": []
   },
   "outputs": [],
   "source": [
    "from sklearn.impute import SimpleImputer\n",
    "\n",
    "imputer_fare = SimpleImputer(strategy='mean')\n",
    "# On \"fit\" l'imputer sur le train, pour être cohérent\n",
    "imputer_fare.fit(train_df[['Fare']])\n",
    "\n",
    "# Ensuite, on l'applique au test\n",
    "test_df['Fare'] = imputer_fare.transform(test_df[['Fare']])"
   ]
  },
  {
   "cell_type": "code",
   "execution_count": 29,
   "id": "884c4352",
   "metadata": {
    "execution": {
     "iopub.execute_input": "2025-03-02T21:13:47.945647Z",
     "iopub.status.busy": "2025-03-02T21:13:47.945297Z",
     "iopub.status.idle": "2025-03-02T21:13:47.950444Z",
     "shell.execute_reply": "2025-03-02T21:13:47.949261Z"
    },
    "papermill": {
     "duration": 0.021224,
     "end_time": "2025-03-02T21:13:47.952056",
     "exception": false,
     "start_time": "2025-03-02T21:13:47.930832",
     "status": "completed"
    },
    "tags": []
   },
   "outputs": [],
   "source": [
    "# =======================================================\n",
    "# 1. Préparation des features pour le dataset de test\n",
    "# =======================================================\n",
    "test_features = test_df.copy()"
   ]
  },
  {
   "cell_type": "code",
   "execution_count": 30,
   "id": "1749236c",
   "metadata": {
    "execution": {
     "iopub.execute_input": "2025-03-02T21:13:47.979830Z",
     "iopub.status.busy": "2025-03-02T21:13:47.979426Z",
     "iopub.status.idle": "2025-03-02T21:13:47.996531Z",
     "shell.execute_reply": "2025-03-02T21:13:47.995665Z"
    },
    "papermill": {
     "duration": 0.033051,
     "end_time": "2025-03-02T21:13:47.998431",
     "exception": false,
     "start_time": "2025-03-02T21:13:47.965380",
     "status": "completed"
    },
    "tags": []
   },
   "outputs": [],
   "source": [
    "# =====================================\n",
    "# 2. Prédictions sur le jeu de test\n",
    "# =====================================\n",
    "test_predictions = model.predict(test_features)"
   ]
  },
  {
   "cell_type": "code",
   "execution_count": 31,
   "id": "93f0f02c",
   "metadata": {
    "execution": {
     "iopub.execute_input": "2025-03-02T21:13:48.026219Z",
     "iopub.status.busy": "2025-03-02T21:13:48.025863Z",
     "iopub.status.idle": "2025-03-02T21:13:48.030824Z",
     "shell.execute_reply": "2025-03-02T21:13:48.029578Z"
    },
    "papermill": {
     "duration": 0.020929,
     "end_time": "2025-03-02T21:13:48.032590",
     "exception": false,
     "start_time": "2025-03-02T21:13:48.011661",
     "status": "completed"
    },
    "tags": []
   },
   "outputs": [],
   "source": [
    "# ==================================\n",
    "# 3. Création du fichier de sortie\n",
    "# ==================================\n",
    "submission = pd.DataFrame({\n",
    "    'PassengerId': test_df['PassengerId'],\n",
    "    'Survived': test_predictions\n",
    "})"
   ]
  },
  {
   "cell_type": "code",
   "execution_count": 32,
   "id": "1b5de299",
   "metadata": {
    "execution": {
     "iopub.execute_input": "2025-03-02T21:13:48.061344Z",
     "iopub.status.busy": "2025-03-02T21:13:48.061003Z",
     "iopub.status.idle": "2025-03-02T21:13:48.071565Z",
     "shell.execute_reply": "2025-03-02T21:13:48.070215Z"
    },
    "papermill": {
     "duration": 0.027228,
     "end_time": "2025-03-02T21:13:48.073397",
     "exception": false,
     "start_time": "2025-03-02T21:13:48.046169",
     "status": "completed"
    },
    "tags": []
   },
   "outputs": [
    {
     "name": "stdout",
     "output_type": "stream",
     "text": [
      "Fichier 'submission-rayan-belhadi.csv' généré avec succès !\n"
     ]
    }
   ],
   "source": [
    "submission.to_csv('submission-rayan-belhadi.csv', index=False)\n",
    "print(\"Fichier 'submission-rayan-belhadi.csv' généré avec succès !\")"
   ]
  },
  {
   "cell_type": "markdown",
   "id": "6b514fd0",
   "metadata": {
    "papermill": {
     "duration": 0.01379,
     "end_time": "2025-03-02T21:13:48.101037",
     "exception": false,
     "start_time": "2025-03-02T21:13:48.087247",
     "status": "completed"
    },
    "tags": []
   },
   "source": [
    "# 🏆 **Conclusion et perspectives**\n",
    "\n",
    "- Le *Titanic* est un cas d’étude parfait pour apprendre les bases du **Machine Learning** et de la **Data Science**.  \n",
    "- Pistes d’amélioration : affiner les paramètres des algorithmes, explorer d'autres modèles, créer des features plus pertinentes, etc... Je reserve cela pour mon prochain essai sur la plateforme.\n",
    "- Notre modèle parvient à atteindre une précisoin (accuracy) de 85% et semble bien apprendre.\n",
    "- Il ne s'agit que du *premier modèle* prédictif et je compte en tester d'autres en affinant et en ajustant les paramètres d'apprentissage.\n",
    "- Le modèle de test parvient à determiner si un passsager à surveccu ou non, et indique sa prédiction avec un 1 ou un 0 dans un fichier que j'appelle \"submission-rayan-belhadi.csv\".\n"
   ]
  }
 ],
 "metadata": {
  "kaggle": {
   "accelerator": "none",
   "dataSources": [
    {
     "databundleVersionId": 26502,
     "sourceId": 3136,
     "sourceType": "competition"
    }
   ],
   "dockerImageVersionId": 30918,
   "isGpuEnabled": false,
   "isInternetEnabled": true,
   "language": "python",
   "sourceType": "notebook"
  },
  "kernelspec": {
   "display_name": "Python 3",
   "language": "python",
   "name": "python3"
  },
  "language_info": {
   "codemirror_mode": {
    "name": "ipython",
    "version": 3
   },
   "file_extension": ".py",
   "mimetype": "text/x-python",
   "name": "python",
   "nbconvert_exporter": "python",
   "pygments_lexer": "ipython3",
   "version": "3.10.12"
  },
  "papermill": {
   "default_parameters": {},
   "duration": 10.808273,
   "end_time": "2025-03-02T21:13:48.834574",
   "environment_variables": {},
   "exception": null,
   "input_path": "__notebook__.ipynb",
   "output_path": "__notebook__.ipynb",
   "parameters": {},
   "start_time": "2025-03-02T21:13:38.026301",
   "version": "2.6.0"
  }
 },
 "nbformat": 4,
 "nbformat_minor": 5
}
